{
 "cells": [
  {
   "cell_type": "code",
   "execution_count": 1,
   "id": "21d1a0f9-e79f-4f17-9e2f-ee88ed4d9a35",
   "metadata": {},
   "outputs": [
    {
     "name": "stdin",
     "output_type": "stream",
     "text": [
      "enter the number 515\n"
     ]
    },
    {
     "name": "stdout",
     "output_type": "stream",
     "text": [
      "3\n"
     ]
    }
   ],
   "source": [
    "# Write a program to find the how many digits in the given number \n",
    "#INPUT FORMAT :\n",
    "#the input consist of an integer \n",
    "#0<input<2^30\n",
    "\n",
    "x = int(input(\"enter the number\" ))\n",
    "\n",
    "z = str(x)\n",
    "count=0\n",
    "for i in z:\n",
    "    count+=1\n",
    "\n",
    "print(count)"
   ]
  }
 ],
 "metadata": {
  "kernelspec": {
   "display_name": "Python 3 (ipykernel)",
   "language": "python",
   "name": "python3"
  },
  "language_info": {
   "codemirror_mode": {
    "name": "ipython",
    "version": 3
   },
   "file_extension": ".py",
   "mimetype": "text/x-python",
   "name": "python",
   "nbconvert_exporter": "python",
   "pygments_lexer": "ipython3",
   "version": "3.12.4"
  }
 },
 "nbformat": 4,
 "nbformat_minor": 5
}
